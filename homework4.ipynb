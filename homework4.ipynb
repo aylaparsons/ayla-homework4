{
 "cells": [
  {
   "cell_type": "code",
   "execution_count": 1,
   "metadata": {},
   "outputs": [
    {
     "name": "stdout",
     "output_type": "stream",
     "text": [
      "Dictionary : A collection of key-value pairs\n",
      "String : A series of characters\n",
      "Boolean Expression : An expression that evaluates to True or False\n",
      "Comment : A note in a program that the Python interpreter ignores\n",
      "Value : An item associated with a key in a dictionary\n",
      "Loop : Work through a collection of items, one at a time\n",
      "List : A collection of items in a particular order\n",
      "Key : The first item in a key-value pair in a dictionary\n",
      "Float : A numerical value with a decimal component\n"
     ]
    }
   ],
   "source": [
    "dictionary = {'Dictionary': 'A collection of key-value pairs',\n",
    "\n",
    "'String': 'A series of characters',\n",
    "\n",
    "'Boolean Expression': 'An expression that evaluates to True or False',\n",
    "\n",
    "'Comment': 'A note in a program that the Python interpreter ignores',\n",
    "\n",
    "'Value': 'An item associated with a key in a dictionary',\n",
    "\n",
    "'Loop': 'Work through a collection of items, one at a time',\n",
    "\n",
    "'List': 'A collection of items in a particular order',\n",
    "\n",
    "'Key': 'The first item in a key-value pair in a dictionary',\n",
    "\n",
    "'Float': 'A numerical value with a decimal component'}\n",
    "\n",
    "for key,value in dictionary.items():\n",
    "    print('{} : {}'.format(key, value))"
   ]
  },
  {
   "cell_type": "code",
   "execution_count": 6,
   "metadata": {},
   "outputs": [
    {
     "name": "stdout",
     "output_type": "stream",
     "text": [
      "same: {'Godfather Trilogy', 'Lord of the Rings'}\n",
      "different: {'Titanic', 'Tropic Thunder', 'Giant', 'Star Wars'}\n"
     ]
    }
   ],
   "source": [
    "mySet = set(['Lord of the Rings', 'Star Wars', 'Titanic', 'Giant', 'Tropic Thunder', 'Godfather Trilogy'])\n",
    "hamidSet = set(['Godfather Trilogy', 'The Matrix', 'Lord of the Rings', 'Good Will Hunting'])\n",
    "same = mySet.intersection(hamidSet)\n",
    "different = mySet.difference(hamidSet)\n",
    "print('same: {}'.format(same))\n",
    "print('different: {}'.format(different))"
   ]
  },
  {
   "cell_type": "code",
   "execution_count": 8,
   "metadata": {},
   "outputs": [
    {
     "name": "stdout",
     "output_type": "stream",
     "text": [
      "wake up\n",
      "exercise\n",
      "eat breakfast\n",
      "get ready\n",
      "go to work\n",
      "go to class\n",
      "eat with husband\n",
      "go to bed\n"
     ]
    }
   ],
   "source": [
    "myDay = ('wake up', 'exercise', 'eat breakfast', 'get ready', 'go to work', 'go to class', 'eat with husband', 'go to bed')\n",
    "for task in myDay: \n",
    "    print(task)"
   ]
  },
  {
   "cell_type": "code",
   "execution_count": null,
   "metadata": {},
   "outputs": [],
   "source": []
  }
 ],
 "metadata": {
  "kernelspec": {
   "display_name": "Python 3",
   "language": "python",
   "name": "python3"
  },
  "language_info": {
   "codemirror_mode": {
    "name": "ipython",
    "version": 3
   },
   "file_extension": ".py",
   "mimetype": "text/x-python",
   "name": "python",
   "nbconvert_exporter": "python",
   "pygments_lexer": "ipython3",
   "version": "3.6.4"
  }
 },
 "nbformat": 4,
 "nbformat_minor": 2
}
